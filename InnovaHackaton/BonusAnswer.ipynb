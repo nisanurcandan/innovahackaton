{
 "cells": [
  {
   "cell_type": "code",
   "execution_count": 7,
   "id": "0e2d956f",
   "metadata": {},
   "outputs": [
    {
     "name": "stdout",
     "output_type": "stream",
     "text": [
      "Busiest Hours Based on Total Traffic:\n",
      "TIME_STAMP\n",
      "2024-02-25 22:00:00    510,144\n",
      "2024-02-25 23:00:00    499,745\n",
      "2024-02-04 22:00:00    495,604\n",
      "2024-03-03 22:00:00    493,793\n",
      "2023-11-05 22:00:00    489,780\n",
      "2024-02-04 23:00:00    488,317\n",
      "2024-02-26 22:00:00    484,773\n",
      "2023-12-17 22:00:00    480,791\n",
      "2024-02-05 23:00:00    477,767\n",
      "2023-12-16 23:00:00    477,759\n",
      "Name: TOTAL_TRAFFIC, dtype: object\n"
     ]
    }
   ],
   "source": [
    "import pandas as pd\n",
    "\n",
    "file_path = 'hackathon 2024 - Yapay Zeka.xlsx'\n",
    "df = pd.read_excel(file_path, sheet_name='Sheet1')\n",
    "\n",
    "df['TIME_STAMP'] = pd.to_datetime(df['TIME_STAMP'])\n",
    "\n",
    "df_server1 = df[df['SERVER_NAME'] == '10.0.901.xx Server 1']\n",
    "\n",
    "df_server1.set_index('TIME_STAMP', inplace=True)\n",
    "\n",
    "df_resampled = df_server1.resample('H').sum()\n",
    "\n",
    "df_resampled['TOTAL_TRAFFIC'] = df_resampled['DOWNLOAD'] + df_resampled['UPLOAD']\n",
    "\n",
    "busiest_hours = df_resampled['TOTAL_TRAFFIC'].sort_values(ascending=False).head(10)\n",
    "\n",
    "print(\"Busiest Hours Based on Total Traffic:\")\n",
    "print(busiest_hours.apply(lambda x: f\"{x:,.0f}\"))"
   ]
  }
 ],
 "metadata": {
  "kernelspec": {
   "display_name": "Python 3 (ipykernel)",
   "language": "python",
   "name": "python3"
  },
  "language_info": {
   "codemirror_mode": {
    "name": "ipython",
    "version": 3
   },
   "file_extension": ".py",
   "mimetype": "text/x-python",
   "name": "python",
   "nbconvert_exporter": "python",
   "pygments_lexer": "ipython3",
   "version": "3.9.12"
  }
 },
 "nbformat": 4,
 "nbformat_minor": 5
}
